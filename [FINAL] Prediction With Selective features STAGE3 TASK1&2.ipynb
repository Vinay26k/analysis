{
 "cells": [
  {
   "cell_type": "code",
   "execution_count": 1,
   "metadata": {},
   "outputs": [],
   "source": [
    "import pandas as pd                    # dataframes\n",
    "import numpy as np                     # any np operations\n",
    "import matplotlib.pyplot as plt        # for plots\n",
    "import seaborn as sns                  # plots\n",
    "import warnings                        # supress deprecation or warning messages\n",
    "%matplotlib inline                     \n",
    "%load_ext autoreload\n",
    "%autoreload 2\n",
    "warnings.simplefilter(\"ignore\")"
   ]
  },
  {
   "cell_type": "code",
   "execution_count": 2,
   "metadata": {},
   "outputs": [
    {
     "data": {
      "text/plain": [
       "Index(['Index Number', 'Investment Name', 'Agency', 'Subagency',\n",
       "       'A) Brief Description', 'B) Year Established', 'C1) Funding FY2008',\n",
       "       'C2) Funding FY2009', 'C3) Funding FY2010',\n",
       "       'D) Mission-specific or General STEM?',\n",
       "       ...\n",
       "       'Unnamed: 246', 'Unnamed: 247',\n",
       "       'Y3) Process or Implementation Evaluation Type', 'Unnamed: 249',\n",
       "       'Unnamed: 250', 'Y4) Portfolio Evaluation/Review Type', 'Unnamed: 252',\n",
       "       'Unnamed: 253', 'Y5) Expert Review Type', 'Unnamed: 255'],\n",
       "      dtype='object', length=256)"
      ]
     },
     "execution_count": 2,
     "metadata": {},
     "output_type": "execute_result"
    }
   ],
   "source": [
    "dataset = pd.read_excel('./Dataset/2010 Federal STEM Education Inventory Data Set.xls', skiprows=1)\n",
    "dataset.columns"
   ]
  },
  {
   "cell_type": "code",
   "execution_count": 3,
   "metadata": {},
   "outputs": [],
   "source": [
    "def fill_funding(col, df):\n",
    "    '''\n",
    "        #### intution ###\n",
    "        filling missing funding values before tagging growth rate\n",
    "    '''\n",
    "    if col is None or df is None:\n",
    "        return None\n",
    "    \n",
    "    funding_rec = pd.DataFrame(df.groupby('Agency')[col].mean())\n",
    "    print(funding_rec.head())\n",
    "    company_details =[(x,df['Agency'][x]) for x in range(df.shape[0]) if not df[col][x]>=0]\n",
    "    ## print(comany_details)\n",
    "    ## tuple index, agency\n",
    "    for x in company_details:\n",
    "        print(x[0], x[1])\n",
    "        df[col][x[0]] = funding_rec[col][x[1]]"
   ]
  },
  {
   "cell_type": "code",
   "execution_count": 4,
   "metadata": {},
   "outputs": [
    {
     "name": "stdout",
     "output_type": "stream",
     "text": [
      "             C1) Funding FY2008\n",
      "Agency                         \n",
      "Agriculture            4.587267\n",
      "Commerce               3.115588\n",
      "Defense                6.778314\n",
      "Education             47.431857\n",
      "Energy                 1.215943\n",
      "52 NASA\n",
      "55 NASA\n",
      "56 NASA\n",
      "59 NASA\n",
      "69 NASA\n",
      "70 NASA\n",
      "72 NASA\n",
      "73 NASA\n",
      "79 NASA\n",
      "85 NASA\n",
      "86 NASA\n",
      "88 NASA\n",
      "92 NASA\n",
      "98 Defense\n",
      "113 Environmental Protection Agency\n",
      "121 Energy\n",
      "122 Energy\n",
      "128 Energy\n",
      "147 Education\n",
      "218 Agriculture\n",
      "239 Defense\n",
      "250 Agriculture\n",
      "             C2) Funding FY2009\n",
      "Agency                         \n",
      "Agriculture            4.365933\n",
      "Commerce               3.471767\n",
      "Defense                8.483045\n",
      "Education             58.277018\n",
      "Energy                 1.717495\n",
      "56 NASA\n",
      "72 NASA\n",
      "73 NASA\n",
      "85 NASA\n",
      "98 Defense\n",
      "128 Energy\n",
      "147 Education\n",
      "218 Agriculture\n",
      "250 Agriculture\n"
     ]
    }
   ],
   "source": [
    "### filling missing values for each year\n",
    "fill_funding('C1) Funding FY2008',dataset)\n",
    "fill_funding('C2) Funding FY2009',dataset)"
   ]
  },
  {
   "cell_type": "code",
   "execution_count": 5,
   "metadata": {},
   "outputs": [],
   "source": [
    "## let's tag for each investment\n",
    "def growth_rate(past, cur):\n",
    "    '''\n",
    "        ### STAGE 1 FUNCTION ###\n",
    "        for tagging investment names based on growth rate percentage\n",
    "    '''\n",
    "    if past:\n",
    "        # check for past is zero\n",
    "        if cur:\n",
    "            return 1 if round(((cur-past)*100/past),2) >0 else 0\n",
    "        else:\n",
    "            return 0\n",
    "    elif cur == 0 or cur is None:\n",
    "        return 0\n",
    "    else:\n",
    "        # logically previously no funding but now we have, so positive\n",
    "        return 1\n",
    "    \n",
    "### checking if adding a feature growth percentage can impact \n",
    "def add_growth_per(df):\n",
    "    '''\n",
    "        ### STAGE 1 FUNCTION ###\n",
    "        Also to add extra column as growth_percentage\n",
    "    '''\n",
    "    if 'C2) Funding FY2009' in df.columns and 'C1) Funding FY2008' in df.columns:\n",
    "        df['growth_percentage'] = ((df['C2) Funding FY2009']-df['C1) Funding FY2008'])*100/df['C1) Funding FY2008'])\n",
    "        return df\n",
    "    else:\n",
    "        return None\n"
   ]
  },
  {
   "cell_type": "code",
   "execution_count": 6,
   "metadata": {},
   "outputs": [
    {
     "data": {
      "text/plain": [
       "(253, 257)"
      ]
     },
     "execution_count": 6,
     "metadata": {},
     "output_type": "execute_result"
    }
   ],
   "source": [
    "## adding percentage growth rate\n",
    "add_growth_per(dataset)\n",
    "dataset.shape"
   ]
  },
  {
   "cell_type": "code",
   "execution_count": 7,
   "metadata": {},
   "outputs": [
    {
     "data": {
      "text/plain": [
       "0    1\n",
       "1    0\n",
       "2    0\n",
       "3    1\n",
       "4    1\n",
       "Name: target, dtype: int64"
      ]
     },
     "execution_count": 7,
     "metadata": {},
     "output_type": "execute_result"
    }
   ],
   "source": [
    "## time to tag Investment name\n",
    "dataset['target'] = dataset.apply(lambda x: growth_rate(x['C1) Funding FY2008'],x['C2) Funding FY2009']), axis=1)\n",
    "dataset.target.head()"
   ]
  },
  {
   "cell_type": "code",
   "execution_count": 9,
   "metadata": {},
   "outputs": [],
   "source": [
    "labels = dataset.target\n",
    "features = dataset.drop(['target'], axis=1)\n",
    "#### STAGE 3 TASK 1 - split by 7:3\n",
    "from sklearn.model_selection import train_test_split\n",
    "X_train, X_test, y_train, y_test = train_test_split(features,labels,test_size=0.3,random_state=26, shuffle=True)"
   ]
  },
  {
   "cell_type": "code",
   "execution_count": 14,
   "metadata": {},
   "outputs": [
    {
     "data": {
      "text/plain": [
       "XGBClassifier(base_score=0.5, booster='gbtree', colsample_bylevel=1,\n",
       "       colsample_bytree=1, gamma=0, learning_rate=0.1, max_delta_step=0,\n",
       "       max_depth=3, min_child_weight=1, missing=None, n_estimators=100,\n",
       "       n_jobs=1, nthread=None, objective='binary:logistic', random_state=0,\n",
       "       reg_alpha=0, reg_lambda=1, scale_pos_weight=1, seed=None,\n",
       "       silent=True, subsample=1)"
      ]
     },
     "execution_count": 14,
     "metadata": {},
     "output_type": "execute_result"
    }
   ],
   "source": [
    "from xgboost import XGBClassifier\n",
    "model = XGBClassifier()\n",
    "model.fit(X_train[['C1) Funding FY2008','C2) Funding FY2009','growth_percentage']].values, y_train)"
   ]
  },
  {
   "cell_type": "code",
   "execution_count": 15,
   "metadata": {},
   "outputs": [
    {
     "data": {
      "text/plain": [
       "1.0"
      ]
     },
     "execution_count": 15,
     "metadata": {},
     "output_type": "execute_result"
    }
   ],
   "source": [
    "from sklearn.metrics import roc_auc_score\n",
    "roc_auc_score(model.predict(X_test[['C1) Funding FY2008','C2) Funding FY2009','growth_percentage']].values), y_test)"
   ]
  },
  {
   "cell_type": "code",
   "execution_count": null,
   "metadata": {},
   "outputs": [],
   "source": []
  }
 ],
 "metadata": {
  "kernelspec": {
   "display_name": "Python 3",
   "language": "python",
   "name": "python3"
  },
  "language_info": {
   "codemirror_mode": {
    "name": "ipython",
    "version": 3
   },
   "file_extension": ".py",
   "mimetype": "text/x-python",
   "name": "python",
   "nbconvert_exporter": "python",
   "pygments_lexer": "ipython3",
   "version": "3.6.5"
  }
 },
 "nbformat": 4,
 "nbformat_minor": 2
}
